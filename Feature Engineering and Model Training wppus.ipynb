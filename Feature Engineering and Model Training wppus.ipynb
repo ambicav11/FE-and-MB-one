{
 "cells": [
  {
   "attachments": {},
   "cell_type": "markdown",
   "metadata": {},
   "source": [
    "# Model Training\n",
    "\n",
    "\n",
    "### Feature Engineering\n",
    "\n",
    "#### Steps \n",
    "* Exploring Features of the dataset\n",
    "* Handling Missing Values\n",
    "* Feature Engineering\n",
    "* Feature Selection "
   ]
  },
  {
   "attachments": {},
   "cell_type": "markdown",
   "metadata": {},
   "source": [
    "#### Import Packages and CSV"
   ]
  },
  {
   "cell_type": "code",
   "execution_count": 495,
   "metadata": {},
   "outputs": [
    {
     "name": "stdout",
     "output_type": "stream",
     "text": [
      "(266, 17)\n"
     ]
    }
   ],
   "source": [
    "import pandas as pd\n",
    "import numpy as np\n",
    "import matplotlib.pyplot as plt\n",
    "import seaborn as sns\n",
    "import warnings\n",
    "warnings.filterwarnings(\"ignore\")\n",
    "pd.pandas.set_option(\"display.max_columns\", None)\n",
    "# Create Dataframe\n",
    "df = pd.read_csv(\"C:/Users/dhanu/Downloads/New folder/New folder/cleaned_wppus.csv\")\n",
    "\n",
    "# Print shape of dataset\n",
    "print(df.shape)"
   ]
  },
  {
   "cell_type": "code",
   "execution_count": 496,
   "metadata": {},
   "outputs": [
    {
     "data": {
      "text/html": [
       "<div>\n",
       "<style scoped>\n",
       "    .dataframe tbody tr th:only-of-type {\n",
       "        vertical-align: middle;\n",
       "    }\n",
       "\n",
       "    .dataframe tbody tr th {\n",
       "        vertical-align: top;\n",
       "    }\n",
       "\n",
       "    .dataframe thead th {\n",
       "        text-align: right;\n",
       "    }\n",
       "</style>\n",
       "<table border=\"1\" class=\"dataframe\">\n",
       "  <thead>\n",
       "    <tr style=\"text-align: right;\">\n",
       "      <th></th>\n",
       "      <th>date</th>\n",
       "      <th>other_united_states</th>\n",
       "      <th>qpp_o_united_states</th>\n",
       "      <th>other_new_england</th>\n",
       "      <th>qpp_new_england</th>\n",
       "      <th>other_connecticut</th>\n",
       "      <th>qpp_connecticut</th>\n",
       "      <th>other_maine</th>\n",
       "      <th>qpp_maine</th>\n",
       "      <th>wind_minnesota</th>\n",
       "      <th>qpp_w_minnesota</th>\n",
       "      <th>wind_california</th>\n",
       "      <th>qpp_w_california</th>\n",
       "      <th>wind_united_states</th>\n",
       "      <th>qpp_w_united_states</th>\n",
       "      <th>year</th>\n",
       "      <th>month</th>\n",
       "    </tr>\n",
       "  </thead>\n",
       "  <tbody>\n",
       "    <tr>\n",
       "      <th>0</th>\n",
       "      <td>2001-01-01</td>\n",
       "      <td>6025</td>\n",
       "      <td>Greatest</td>\n",
       "      <td>678</td>\n",
       "      <td>medium</td>\n",
       "      <td>75</td>\n",
       "      <td>low</td>\n",
       "      <td>348</td>\n",
       "      <td>medium</td>\n",
       "      <td>86</td>\n",
       "      <td>Greatest</td>\n",
       "      <td>133</td>\n",
       "      <td>Greatest</td>\n",
       "      <td>389</td>\n",
       "      <td>Greatest</td>\n",
       "      <td>2001</td>\n",
       "      <td>1</td>\n",
       "    </tr>\n",
       "    <tr>\n",
       "      <th>1</th>\n",
       "      <td>2001-02-01</td>\n",
       "      <td>5310</td>\n",
       "      <td>Greatest</td>\n",
       "      <td>599</td>\n",
       "      <td>Greatest</td>\n",
       "      <td>77</td>\n",
       "      <td>low</td>\n",
       "      <td>293</td>\n",
       "      <td>Greatest</td>\n",
       "      <td>73</td>\n",
       "      <td>Greatest</td>\n",
       "      <td>148</td>\n",
       "      <td>Greatest</td>\n",
       "      <td>431</td>\n",
       "      <td>Greatest</td>\n",
       "      <td>2001</td>\n",
       "      <td>2</td>\n",
       "    </tr>\n",
       "    <tr>\n",
       "      <th>2</th>\n",
       "      <td>2001-03-01</td>\n",
       "      <td>5795</td>\n",
       "      <td>Greatest</td>\n",
       "      <td>660</td>\n",
       "      <td>high</td>\n",
       "      <td>96</td>\n",
       "      <td>negligible</td>\n",
       "      <td>327</td>\n",
       "      <td>high</td>\n",
       "      <td>67</td>\n",
       "      <td>Greatest</td>\n",
       "      <td>300</td>\n",
       "      <td>Greatest</td>\n",
       "      <td>532</td>\n",
       "      <td>Greatest</td>\n",
       "      <td>2001</td>\n",
       "      <td>3</td>\n",
       "    </tr>\n",
       "    <tr>\n",
       "      <th>3</th>\n",
       "      <td>2001-04-01</td>\n",
       "      <td>5827</td>\n",
       "      <td>Greatest</td>\n",
       "      <td>593</td>\n",
       "      <td>Greatest</td>\n",
       "      <td>92</td>\n",
       "      <td>negligible</td>\n",
       "      <td>277</td>\n",
       "      <td>Greatest</td>\n",
       "      <td>91</td>\n",
       "      <td>Greatest</td>\n",
       "      <td>393</td>\n",
       "      <td>high</td>\n",
       "      <td>685</td>\n",
       "      <td>Greatest</td>\n",
       "      <td>2001</td>\n",
       "      <td>4</td>\n",
       "    </tr>\n",
       "    <tr>\n",
       "      <th>4</th>\n",
       "      <td>2001-05-01</td>\n",
       "      <td>5738</td>\n",
       "      <td>Greatest</td>\n",
       "      <td>640</td>\n",
       "      <td>high</td>\n",
       "      <td>72</td>\n",
       "      <td>low</td>\n",
       "      <td>336</td>\n",
       "      <td>high</td>\n",
       "      <td>73</td>\n",
       "      <td>Greatest</td>\n",
       "      <td>378</td>\n",
       "      <td>high</td>\n",
       "      <td>635</td>\n",
       "      <td>Greatest</td>\n",
       "      <td>2001</td>\n",
       "      <td>5</td>\n",
       "    </tr>\n",
       "  </tbody>\n",
       "</table>\n",
       "</div>"
      ],
      "text/plain": [
       "         date  other_united_states qpp_o_united_states  other_new_england  \\\n",
       "0  2001-01-01                 6025            Greatest                678   \n",
       "1  2001-02-01                 5310            Greatest                599   \n",
       "2  2001-03-01                 5795            Greatest                660   \n",
       "3  2001-04-01                 5827            Greatest                593   \n",
       "4  2001-05-01                 5738            Greatest                640   \n",
       "\n",
       "  qpp_new_england  other_connecticut qpp_connecticut  other_maine qpp_maine  \\\n",
       "0          medium                 75             low          348    medium   \n",
       "1        Greatest                 77             low          293  Greatest   \n",
       "2            high                 96      negligible          327      high   \n",
       "3        Greatest                 92      negligible          277  Greatest   \n",
       "4            high                 72             low          336      high   \n",
       "\n",
       "   wind_minnesota qpp_w_minnesota  wind_california qpp_w_california  \\\n",
       "0              86        Greatest              133         Greatest   \n",
       "1              73        Greatest              148         Greatest   \n",
       "2              67        Greatest              300         Greatest   \n",
       "3              91        Greatest              393             high   \n",
       "4              73        Greatest              378             high   \n",
       "\n",
       "   wind_united_states qpp_w_united_states  year  month  \n",
       "0                 389            Greatest  2001      1  \n",
       "1                 431            Greatest  2001      2  \n",
       "2                 532            Greatest  2001      3  \n",
       "3                 685            Greatest  2001      4  \n",
       "4                 635            Greatest  2001      5  "
      ]
     },
     "execution_count": 496,
     "metadata": {},
     "output_type": "execute_result"
    }
   ],
   "source": [
    "df.head()"
   ]
  },
  {
   "attachments": {},
   "cell_type": "markdown",
   "metadata": {},
   "source": [
    "##  Data cleaning and Data Transformation"
   ]
  },
  {
   "attachments": {},
   "cell_type": "markdown",
   "metadata": {},
   "source": [
    "### Feature Extraction"
   ]
  },
  {
   "attachments": {},
   "cell_type": "markdown",
   "metadata": {},
   "source": [
    "In EDA file , wind data has been seperated from other data."
   ]
  },
  {
   "attachments": {},
   "cell_type": "markdown",
   "metadata": {},
   "source": [
    "### Other Data Manipulations"
   ]
  },
  {
   "attachments": {},
   "cell_type": "markdown",
   "metadata": {},
   "source": [
    "* **Based on the In-Sights from EDA, We Drop Columns which are not much impacting the target variable**"
   ]
  },
  {
   "cell_type": "code",
   "execution_count": 497,
   "metadata": {},
   "outputs": [
    {
     "name": "stdout",
     "output_type": "stream",
     "text": [
      "           date  other_united_states qpp_o_united_states  other_new_england  \\\n",
      "0    2001-01-01                 6025            Greatest                678   \n",
      "1    2001-02-01                 5310            Greatest                599   \n",
      "2    2001-03-01                 5795            Greatest                660   \n",
      "3    2001-04-01                 5827            Greatest                593   \n",
      "4    2001-05-01                 5738            Greatest                640   \n",
      "..          ...                  ...                 ...                ...   \n",
      "261  2022-10-01                50478          negligible                998   \n",
      "262  2022-11-01                56144          negligible               1084   \n",
      "263  2022-12-01                52394          negligible               1070   \n",
      "264  2023-01-01                53152          negligible                983   \n",
      "265  2023-02-01                56626          negligible                962   \n",
      "\n",
      "    qpp_new_england  other_connecticut qpp_connecticut  other_maine  \\\n",
      "0            medium                 75             low          348   \n",
      "1          Greatest                 77             low          293   \n",
      "2              high                 96      negligible          327   \n",
      "3          Greatest                 92      negligible          277   \n",
      "4              high                 72             low          336   \n",
      "..              ...                ...             ...          ...   \n",
      "261      negligible                 89      negligible          377   \n",
      "262      negligible                 83      negligible          488   \n",
      "263      negligible                 78      negligible          481   \n",
      "264      negligible                 80      negligible          429   \n",
      "265      negligible                 75             low          416   \n",
      "\n",
      "      qpp_maine  wind_minnesota qpp_w_minnesota  wind_california  \\\n",
      "0        medium              86        Greatest              133   \n",
      "1      Greatest              73        Greatest              148   \n",
      "2          high              67        Greatest              300   \n",
      "3      Greatest              91        Greatest              393   \n",
      "4          high              73        Greatest              378   \n",
      "..          ...             ...             ...              ...   \n",
      "261         low            1227      negligible             1006   \n",
      "262  negligible            1451      negligible             1284   \n",
      "263  negligible            1414      negligible             1207   \n",
      "264  negligible            1205      negligible             1381   \n",
      "265  negligible            1473      negligible             1305   \n",
      "\n",
      "    qpp_w_california  wind_united_states qpp_w_united_states  year  month  \n",
      "0           Greatest                 389            Greatest  2001      1  \n",
      "1           Greatest                 431            Greatest  2001      2  \n",
      "2           Greatest                 532            Greatest  2001      3  \n",
      "3               high                 685            Greatest  2001      4  \n",
      "4               high                 635            Greatest  2001      5  \n",
      "..               ...                 ...                 ...   ...    ...  \n",
      "261              low               32824          negligible  2022     10  \n",
      "262              low               41826          negligible  2022     11  \n",
      "263              low               39282          negligible  2022     12  \n",
      "264       negligible               39076          negligible  2023      1  \n",
      "265       negligible               42015          negligible  2023      2  \n",
      "\n",
      "[266 rows x 17 columns]\n"
     ]
    }
   ],
   "source": [
    "print(df)"
   ]
  },
  {
   "attachments": {},
   "cell_type": "markdown",
   "metadata": {},
   "source": [
    "### Types of Features "
   ]
  },
  {
   "attachments": {},
   "cell_type": "markdown",
   "metadata": {},
   "source": [
    "* **Numerical Features**"
   ]
  },
  {
   "cell_type": "code",
   "execution_count": 498,
   "metadata": {},
   "outputs": [
    {
     "name": "stdout",
     "output_type": "stream",
     "text": [
      "Num of Numerical Features : 9\n",
      "['other_united_states', 'other_new_england', 'other_connecticut', 'other_maine', 'wind_minnesota', 'wind_california', 'wind_united_states', 'year', 'month']\n"
     ]
    }
   ],
   "source": [
    "num_features = [feature for feature in df.columns if df[feature].dtype != 'O']\n",
    "print('Num of Numerical Features :', len(num_features))\n",
    "print(num_features)"
   ]
  },
  {
   "attachments": {},
   "cell_type": "markdown",
   "metadata": {},
   "source": [
    "* **Categorical Features**"
   ]
  },
  {
   "cell_type": "code",
   "execution_count": 499,
   "metadata": {},
   "outputs": [
    {
     "name": "stdout",
     "output_type": "stream",
     "text": [
      "Num of Categorical Features : 8\n",
      "['date', 'qpp_o_united_states', 'qpp_new_england', 'qpp_connecticut', 'qpp_maine', 'qpp_w_minnesota', 'qpp_w_california', 'qpp_w_united_states']\n"
     ]
    }
   ],
   "source": [
    "cat_features = [feature for feature in df.columns if df[feature].dtype == 'O']\n",
    "print('Num of Categorical Features :', len(cat_features))\n",
    "print(cat_features)"
   ]
  },
  {
   "attachments": {},
   "cell_type": "markdown",
   "metadata": {},
   "source": [
    "* **Discrete Features**"
   ]
  },
  {
   "cell_type": "code",
   "execution_count": 500,
   "metadata": {},
   "outputs": [
    {
     "name": "stdout",
     "output_type": "stream",
     "text": [
      "Num of Discrete Features : 2\n",
      "['year', 'month']\n"
     ]
    }
   ],
   "source": [
    "discrete_feature=[feature for feature in num_features if len(df[feature].unique())<=25]\n",
    "print('Num of Discrete Features :',len(discrete_feature))\n",
    "print(discrete_feature)"
   ]
  },
  {
   "cell_type": "code",
   "execution_count": 501,
   "metadata": {},
   "outputs": [
    {
     "name": "stdout",
     "output_type": "stream",
     "text": [
      "Num of Year Features : 3\n",
      "['date', 'year', 'month']\n"
     ]
    }
   ],
   "source": [
    "year_features=[feature for feature in df.columns if 'date' in feature or 'month' in feature or 'year' in feature]\n",
    "print('Num of Year Features :',len(year_features))\n",
    "print(year_features)"
   ]
  },
  {
   "cell_type": "code",
   "execution_count": 502,
   "metadata": {},
   "outputs": [
    {
     "name": "stdout",
     "output_type": "stream",
     "text": [
      "Num of Continuous Features : 7\n",
      "['other_united_states', 'other_new_england', 'other_connecticut', 'other_maine', 'wind_minnesota', 'wind_california', 'wind_united_states']\n"
     ]
    }
   ],
   "source": [
    "continuous_feature=[feature for feature in num_features if feature not in discrete_feature+year_features]\n",
    "print('Num of Continuous Features :',len(continuous_feature))\n",
    "print(continuous_feature)"
   ]
  },
  {
   "attachments": {},
   "cell_type": "markdown",
   "metadata": {},
   "source": [
    "## Feature Selection"
   ]
  },
  {
   "attachments": {},
   "cell_type": "markdown",
   "metadata": {},
   "source": [
    "* Multicollinearity occurs when there are two or more independent variables in a multiple regression model, which have a high correlation among themselves. When some features are highly correlated.\n",
    "* Multicollinearity can be detected using various techniques, one such technique being the Variance Inflation Factor(VIF)."
   ]
  },
  {
   "attachments": {},
   "cell_type": "markdown",
   "metadata": {
    "slideshow": {
     "slide_type": "notes"
    }
   },
   "source": [
    "### Outlier Removal and Checking Skewness"
   ]
  },
  {
   "attachments": {},
   "cell_type": "markdown",
   "metadata": {},
   "source": [
    "* For Skewed distributions: Use Inter-Quartile Range (IQR) proximity rule.\n",
    "\n",
    "* The data points which fall below Q1 – 1.5 IQR or above Q3 + 1.5 IQR are outliers.\n",
    "\n",
    "* where Q1 and Q3 are the 25th and 75th percentile of the dataset respectively, and IQR represents the inter-quartile range and given by Q3 – Q1."
   ]
  },
  {
   "cell_type": "code",
   "execution_count": 503,
   "metadata": {
    "scrolled": false
   },
   "outputs": [
    {
     "data": {
      "image/png": "[encoded data removed]",
      "text/plain": [
       "<Figure size 1000x600 with 1 Axes>"
      ]
     },
     "metadata": {},
     "output_type": "display_data"
    },
    {
     "data": {
      "image/png": "[encoded data removed]",
      "text/plain": [
       "<Figure size 1000x600 with 1 Axes>"
      ]
     },
     "metadata": {},
     "output_type": "display_data"
    },
    {
     "data": {
      "image/png": "[encoded data removed]",
      "text/plain": [
       "<Figure size 1000x600 with 1 Axes>"
      ]
     },
     "metadata": {},
     "output_type": "display_data"
    },
    {
     "data": {
      "image/png": "[encoded data removed]",
      "text/plain": [
       "<Figure size 1000x600 with 1 Axes>"
      ]
     },
     "metadata": {},
     "output_type": "display_data"
    },
    {
     "data": {
      "image/png": "[encoded data removed]",
      "text/plain": [
       "<Figure size 1000x600 with 1 Axes>"
      ]
     },
     "metadata": {},
     "output_type": "display_data"
    },
    {
     "data": {
      "image/png": "[encoded data removed]",
      "text/plain": [
       "<Figure size 1000x600 with 1 Axes>"
      ]
     },
     "metadata": {},
     "output_type": "display_data"
    },
    {
     "data": {
      "image/png": "[encoded data removed]",
      "text/plain": [
       "<Figure size 1000x600 with 1 Axes>"
      ]
     },
     "metadata": {},
     "output_type": "display_data"
    }
   ],
   "source": [
    "for i in continuous_feature:\n",
    "        plt.figure(figsize=(10,6))\n",
    "        sns.set_style('ticks')\n",
    "        ax = sns.boxplot(df[i])"
   ]
  },
  {
   "cell_type": "code",
   "execution_count": 504,
   "metadata": {},
   "outputs": [],
   "source": [
    "def detect_outliers(col):\n",
    "    # Finding the IQR\n",
    "    percentile25 = df[col].quantile(0.25)\n",
    "    percentile75 = df[col].quantile(0.75)\n",
    "    print('\\n ####', col , '####')\n",
    "    print(\"percentile25\",percentile25)\n",
    "    print(\"percentile75\",percentile75)\n",
    "    iqr = percentile75 - percentile25\n",
    "    upper_limit = percentile75 + 1.5 * iqr\n",
    "    lower_limit = percentile25 - 1.5 * iqr\n",
    "    print(\"Upper limit\",upper_limit)\n",
    "    print(\"Lower limit\",lower_limit)\n",
    "    df.loc[(df[col]>upper_limit), col]= upper_limit\n",
    "    df.loc[(df[col]<lower_limit), col]= lower_limit    \n",
    "    return df"
   ]
  },
  {
   "cell_type": "code",
   "execution_count": 505,
   "metadata": {},
   "outputs": [
    {
     "name": "stdout",
     "output_type": "stream",
     "text": [
      "\n",
      " #### other_united_states ####\n",
      "percentile25 8057.25\n",
      "percentile75 32203.75\n",
      "Upper limit 68423.5\n",
      "Lower limit -28162.5\n",
      "\n",
      " #### other_new_england ####\n",
      "percentile25 632.25\n",
      "percentile75 885.0\n",
      "Upper limit 1264.125\n",
      "Lower limit 253.125\n",
      "\n",
      " #### other_connecticut ####\n",
      "percentile25 60.0\n",
      "percentile75 74.0\n",
      "Upper limit 95.0\n",
      "Lower limit 39.0\n",
      "\n",
      " #### other_maine ####\n",
      "percentile25 321.5\n",
      "percentile75 397.75\n",
      "Upper limit 512.125\n",
      "Lower limit 207.125\n",
      "\n",
      " #### wind_minnesota ####\n",
      "percentile25 177.0\n",
      "percentile75 907.5\n",
      "Upper limit 2003.25\n",
      "Lower limit -918.75\n",
      "\n",
      " #### wind_california ####\n",
      "percentile25 396.0\n",
      "percentile75 1096.5\n",
      "Upper limit 2147.25\n",
      "Lower limit -654.75\n",
      "\n",
      " #### wind_united_states ####\n",
      "percentile25 2365.0\n",
      "percentile75 21095.25\n",
      "Upper limit 49190.625\n",
      "Lower limit -25730.375\n"
     ]
    }
   ],
   "source": [
    "for col in continuous_feature:\n",
    "         detect_outliers(col)"
   ]
  },
  {
   "attachments": {},
   "cell_type": "markdown",
   "metadata": {},
   "source": [
    "* **Split Dataframe to X and y**"
   ]
  },
  {
   "attachments": {},
   "cell_type": "markdown",
   "metadata": {},
   "source": [
    "* **Here we set a variable X i.e, independent columns, and a variable y i.e, dependent column as the “other_maine” column.**"
   ]
  },
  {
   "cell_type": "code",
   "execution_count": 506,
   "metadata": {},
   "outputs": [
    {
     "name": "stdout",
     "output_type": "stream",
     "text": [
      "(266, 16) (266, 16) (266,)\n"
     ]
    }
   ],
   "source": [
    "from sklearn.model_selection import train_test_split\n",
    "X = df\n",
    "y = df['qpp_w_united_states']\n",
    "X.drop('qpp_w_united_states',axis=1,inplace=True)\n",
    "pd.pandas.set_option(\"display.max_columns\", None)\n",
    "print(df.shape,X.shape,y.shape)\n"
   ]
  },
  {
   "attachments": {},
   "cell_type": "markdown",
   "metadata": {},
   "source": [
    "* **Check all columns which are in Train data set**"
   ]
  },
  {
   "cell_type": "code",
   "execution_count": 507,
   "metadata": {
    "scrolled": false
   },
   "outputs": [
    {
     "name": "stdout",
     "output_type": "stream",
     "text": [
      "['date', 'other_united_states', 'qpp_o_united_states', 'other_new_england', 'qpp_new_england', 'other_connecticut', 'qpp_connecticut', 'other_maine', 'qpp_maine', 'wind_minnesota', 'qpp_w_minnesota', 'wind_california', 'qpp_w_california', 'wind_united_states', 'year', 'month']\n"
     ]
    },
    {
     "data": {
      "text/plain": [
       "16"
      ]
     },
     "execution_count": 507,
     "metadata": {},
     "output_type": "execute_result"
    }
   ],
   "source": [
    "all_columns  = list(X.columns)\n",
    "\n",
    "print(all_columns) \n",
    "len(all_columns)"
   ]
  },
  {
   "attachments": {},
   "cell_type": "markdown",
   "metadata": {},
   "source": [
    "###  Feature Encoding"
   ]
  },
  {
   "attachments": {},
   "cell_type": "markdown",
   "metadata": {},
   "source": [
    "* **Extracting Categorical features from train set for feature encoding**"
   ]
  },
  {
   "cell_type": "code",
   "execution_count": 508,
   "metadata": {},
   "outputs": [
    {
     "name": "stdout",
     "output_type": "stream",
     "text": [
      "Num of Categorical Features : 7\n",
      "['date', 'qpp_o_united_states', 'qpp_new_england', 'qpp_connecticut', 'qpp_maine', 'qpp_w_minnesota', 'qpp_w_california']\n"
     ]
    }
   ],
   "source": [
    "cat_features = [feature for feature in X.columns if X[feature].dtype == 'O']\n",
    "print('Num of Categorical Features :', len(cat_features))\n",
    "print(cat_features)\n"
   ]
  },
  {
   "cell_type": "code",
   "execution_count": 509,
   "metadata": {},
   "outputs": [],
   "source": [
    "df=df.fillna(df.mean())\n"
   ]
  },
  {
   "attachments": {},
   "cell_type": "markdown",
   "metadata": {},
   "source": [
    "* **Checking for Unique variables in each column**"
   ]
  },
  {
   "cell_type": "code",
   "execution_count": 510,
   "metadata": {},
   "outputs": [
    {
     "name": "stdout",
     "output_type": "stream",
     "text": [
      "date : 266\n",
      "qpp_o_united_states : 5\n",
      "qpp_new_england : 5\n",
      "qpp_connecticut : 5\n",
      "qpp_maine : 5\n",
      "qpp_w_minnesota : 5\n",
      "qpp_w_california : 5\n"
     ]
    }
   ],
   "source": [
    "for feature in cat_features:\n",
    "    print(feature,':', X[feature].nunique())"
   ]
  },
  {
   "attachments": {},
   "cell_type": "markdown",
   "metadata": {},
   "source": [
    "## Pipeline for DataTransformation"
   ]
  },
  {
   "attachments": {},
   "cell_type": "markdown",
   "metadata": {},
   "source": [
    " **One Hot Encoding for Columns which had lesser unique values and not ordinal**"
   ]
  },
  {
   "attachments": {},
   "cell_type": "markdown",
   "metadata": {},
   "source": [
    "* One hot encoding is a process by which categorical variables are converted into a form that could be provided to ML algorithms to do a better job in prediction."
   ]
  },
  {
   "attachments": {},
   "cell_type": "markdown",
   "metadata": {},
   "source": [
    "\n",
    "**Binary Encoder is used for Country which had 170 unique values**\n",
    "* Binary encoding is a combination of Hash encoding and one-hot encoding. In this encoding scheme, the categorical feature is first converted into numerical using an ordinal encoder. Then the numbers are transformed in the binary number. After that binary value is split into different columns.\n",
    "\n",
    "* Binary encoding works really well when there are a high number of categories, Like Countries in our case"
   ]
  },
  {
   "cell_type": "code",
   "execution_count": 511,
   "metadata": {},
   "outputs": [
    {
     "name": "stdout",
     "output_type": "stream",
     "text": [
      "<class 'pandas.core.frame.DataFrame'>\n",
      "RangeIndex: 266 entries, 0 to 265\n",
      "Data columns (total 16 columns):\n",
      " #   Column               Non-Null Count  Dtype  \n",
      "---  ------               --------------  -----  \n",
      " 0   date                 266 non-null    object \n",
      " 1   other_united_states  266 non-null    float64\n",
      " 2   qpp_o_united_states  266 non-null    object \n",
      " 3   other_new_england    266 non-null    float64\n",
      " 4   qpp_new_england      266 non-null    object \n",
      " 5   other_connecticut    266 non-null    int64  \n",
      " 6   qpp_connecticut      266 non-null    object \n",
      " 7   other_maine          266 non-null    float64\n",
      " 8   qpp_maine            266 non-null    object \n",
      " 9   wind_minnesota       266 non-null    float64\n",
      " 10  qpp_w_minnesota      266 non-null    object \n",
      " 11  wind_california      266 non-null    float64\n",
      " 12  qpp_w_california     266 non-null    object \n",
      " 13  wind_united_states   266 non-null    float64\n",
      " 14  year                 266 non-null    int64  \n",
      " 15  month                266 non-null    int64  \n",
      "dtypes: float64(6), int64(3), object(7)\n",
      "memory usage: 33.4+ KB\n"
     ]
    }
   ],
   "source": [
    "df.info()"
   ]
  },
  {
   "cell_type": "code",
   "execution_count": 512,
   "metadata": {},
   "outputs": [],
   "source": [
    "# Create Column Transformer with 3 types of transformers\n",
    "from sklearn.preprocessing import OneHotEncoder,StandardScaler,RobustScaler,MinMaxScaler,Normalizer,PowerTransformer, QuantileTransformer\n",
    "from sklearn.compose import ColumnTransformer\n",
    "#from category_encoders.binary import BinaryEncoder\n",
    "num_features = [feature for feature in X.columns if X[feature].dtype != 'O']\n",
    "#oh_columns = ['qpp_o_united_states','qpp_connecticut','qpp_w_california','qpp_new_england','qpp_w_united_states']\n",
    "#bin_columns = ['qpp_maine']\n",
    "\n",
    "numeric_transformer = StandardScaler()\n",
    "#bin_transformer = BinaryEncoder()\n",
    "#oh_transformer = OneHotEncoder()\n",
    "\n",
    "preprocessor = ColumnTransformer(\n",
    "    [\n",
    "         #('binary' ,bin_transformer, bin_columns),\n",
    "         #(\"oh\", oh_transformer, oh_columns),\n",
    "         (\"num\", numeric_transformer, num_features)\n",
    "    ]\n",
    ")"
   ]
  },
  {
   "attachments": {},
   "cell_type": "markdown",
   "metadata": {},
   "source": [
    "reduce columns to around 20 and do EDA. Dont encode y. just standard scaler on X ."
   ]
  },
  {
   "cell_type": "code",
   "execution_count": 513,
   "metadata": {},
   "outputs": [],
   "source": [
    "# Apply Column Transformer\n",
    "X = preprocessor.fit_transform(X)\n"
   ]
  },
  {
   "cell_type": "code",
   "execution_count": 514,
   "metadata": {},
   "outputs": [
    {
     "name": "stdout",
     "output_type": "stream",
     "text": [
      "object\n",
      "(266,)\n",
      "(266, 9)\n",
      "['other_united_states', 'other_new_england', 'other_connecticut', 'other_maine', 'wind_minnesota', 'wind_california', 'wind_united_states', 'year', 'month']\n"
     ]
    }
   ],
   "source": [
    "print(y.dtype)\n",
    "print(y.shape)\n",
    "print(X.shape)\n",
    "print(num_features)\n"
   ]
  },
  {
   "cell_type": "code",
   "execution_count": 515,
   "metadata": {},
   "outputs": [],
   "source": [
    "#import pickle\n",
    "#pickle.dump(preprocessor, open('preprocess.pkl', 'wb'))"
   ]
  },
  {
   "attachments": {},
   "cell_type": "markdown",
   "metadata": {},
   "source": [
    "## Train Test Split"
   ]
  },
  {
   "cell_type": "code",
   "execution_count": 516,
   "metadata": {},
   "outputs": [
    {
     "data": {
      "text/plain": [
       "((239, 9), (27, 9))"
      ]
     },
     "execution_count": 516,
     "metadata": {},
     "output_type": "execute_result"
    }
   ],
   "source": [
    "# separate dataset into train and test\n",
    "X_train, X_test, y_train, y_test = train_test_split(X,y,test_size=0.1,stratify=y,random_state=0)\n",
    "X_train.shape, X_test.shape"
   ]
  },
  {
   "attachments": {},
   "cell_type": "markdown",
   "metadata": {},
   "source": [
    "## Model Selection"
   ]
  },
  {
   "attachments": {},
   "cell_type": "markdown",
   "metadata": {},
   "source": [
    "* **Here should understand the Various Classification models with default values from these models we can choose top 4 with Highest Accuracy score and proceed with HyperParameter Tuning**"
   ]
  },
  {
   "cell_type": "code",
   "execution_count": 517,
   "metadata": {},
   "outputs": [],
   "source": [
    "from sklearn.naive_bayes import GaussianNB\n",
    "#from sklearn.ensemble import RandomForestClassifier, GradientBoostingClassifier, AdaBoostClassifier\n",
    "from sklearn.linear_model import LogisticRegression,LinearRegression\n",
    "from sklearn.neighbors import KNeighborsClassifier\n",
    "from sklearn.metrics import accuracy_score, classification_report, \\\n",
    "                            precision_score, recall_score, f1_score\n",
    "from sklearn.svm import SVC\n",
    "from sklearn.tree import DecisionTreeClassifier\n",
    "#from xgboost import XGBClassifier\n",
    "#from catboost import CatBoostClassifier"
   ]
  },
  {
   "cell_type": "code",
   "execution_count": 518,
   "metadata": {},
   "outputs": [],
   "source": [
    "#from sklearn import preprocessing\n",
    "#from sklearn import utils\n",
    "\n",
    "#convert y values to categorical values from continuous\n",
    "#lab = preprocessing.LabelEncoder()\n",
    "#y_transformed = lab.fit_transform(y)\n",
    "\n",
    "#view transformed values\n",
    "#print(y_transformed)\n",
    "\n"
   ]
  },
  {
   "cell_type": "code",
   "execution_count": 519,
   "metadata": {},
   "outputs": [
    {
     "name": "stdout",
     "output_type": "stream",
     "text": [
      "(239, 9)\n",
      "(239,)\n",
      "object\n",
      "(27, 9)\n",
      "(27,)\n",
      "object\n"
     ]
    }
   ],
   "source": [
    "print(X_train.shape)\n",
    "print(y_train.shape)\n",
    "print(y_train.dtype)\n",
    "print(X_test.shape)\n",
    "print(y_test.shape)\n",
    "print(y_test.dtype)\n",
    "\n"
   ]
  },
  {
   "cell_type": "code",
   "execution_count": 520,
   "metadata": {},
   "outputs": [
    {
     "name": "stdout",
     "output_type": "stream",
     "text": [
      "           date  other_united_states qpp_o_united_states  other_new_england  \\\n",
      "0    2001-01-01               6025.0            Greatest              678.0   \n",
      "1    2001-02-01               5310.0            Greatest              599.0   \n",
      "2    2001-03-01               5795.0            Greatest              660.0   \n",
      "3    2001-04-01               5827.0            Greatest              593.0   \n",
      "4    2001-05-01               5738.0            Greatest              640.0   \n",
      "..          ...                  ...                 ...                ...   \n",
      "261  2022-10-01              50478.0          negligible              998.0   \n",
      "262  2022-11-01              56144.0          negligible             1084.0   \n",
      "263  2022-12-01              52394.0          negligible             1070.0   \n",
      "264  2023-01-01              53152.0          negligible              983.0   \n",
      "265  2023-02-01              56626.0          negligible              962.0   \n",
      "\n",
      "    qpp_new_england  other_connecticut qpp_connecticut  other_maine  \\\n",
      "0            medium                 75             low        348.0   \n",
      "1          Greatest                 77             low        293.0   \n",
      "2              high                 95      negligible        327.0   \n",
      "3          Greatest                 92      negligible        277.0   \n",
      "4              high                 72             low        336.0   \n",
      "..              ...                ...             ...          ...   \n",
      "261      negligible                 89      negligible        377.0   \n",
      "262      negligible                 83      negligible        488.0   \n",
      "263      negligible                 78      negligible        481.0   \n",
      "264      negligible                 80      negligible        429.0   \n",
      "265      negligible                 75             low        416.0   \n",
      "\n",
      "      qpp_maine  wind_minnesota qpp_w_minnesota  wind_california  \\\n",
      "0        medium            86.0        Greatest            133.0   \n",
      "1      Greatest            73.0        Greatest            148.0   \n",
      "2          high            67.0        Greatest            300.0   \n",
      "3      Greatest            91.0        Greatest            393.0   \n",
      "4          high            73.0        Greatest            378.0   \n",
      "..          ...             ...             ...              ...   \n",
      "261         low          1227.0      negligible           1006.0   \n",
      "262  negligible          1451.0      negligible           1284.0   \n",
      "263  negligible          1414.0      negligible           1207.0   \n",
      "264  negligible          1205.0      negligible           1381.0   \n",
      "265  negligible          1473.0      negligible           1305.0   \n",
      "\n",
      "    qpp_w_california  wind_united_states  year  month  \n",
      "0           Greatest               389.0  2001      1  \n",
      "1           Greatest               431.0  2001      2  \n",
      "2           Greatest               532.0  2001      3  \n",
      "3               high               685.0  2001      4  \n",
      "4               high               635.0  2001      5  \n",
      "..               ...                 ...   ...    ...  \n",
      "261              low             32824.0  2022     10  \n",
      "262              low             41826.0  2022     11  \n",
      "263              low             39282.0  2022     12  \n",
      "264       negligible             39076.0  2023      1  \n",
      "265       negligible             42015.0  2023      2  \n",
      "\n",
      "[266 rows x 16 columns]\n"
     ]
    }
   ],
   "source": [
    "print(df)\n"
   ]
  },
  {
   "cell_type": "code",
   "execution_count": 521,
   "metadata": {
    "scrolled": false
   },
   "outputs": [
    {
     "name": "stdout",
     "output_type": "stream",
     "text": [
      "Naive Bayes\n",
      "Model performance for Training set\n",
      "- Accuracy: 0.9079\n",
      "----------------------------------\n",
      "Model performance for Test set\n",
      "- Accuracy: 0.9259\n",
      "===================================\n",
      "\n",
      "\n",
      "Logistic Regression\n",
      "Model performance for Training set\n",
      "- Accuracy: 0.9121\n",
      "----------------------------------\n",
      "Model performance for Test set\n",
      "- Accuracy: 0.8148\n",
      "===================================\n",
      "\n",
      "\n",
      "K-Neighbors Classifier\n",
      "Model performance for Training set\n",
      "- Accuracy: 0.9038\n",
      "----------------------------------\n",
      "Model performance for Test set\n",
      "- Accuracy: 0.7778\n",
      "===================================\n",
      "\n",
      "\n",
      "Support Vector Classifier\n",
      "Model performance for Training set\n",
      "- Accuracy: 0.8996\n",
      "----------------------------------\n",
      "Model performance for Test set\n",
      "- Accuracy: 0.8889\n",
      "===================================\n",
      "\n",
      "\n"
     ]
    }
   ],
   "source": [
    "models = {\n",
    "    #\"Random Forest\": RandomForestClassifier(),\n",
    "   \"Naive Bayes\": GaussianNB(),\n",
    "   #\"Gradient Boosting\": GradientBoostingClassifier(),\n",
    "    \"Logistic Regression\": LogisticRegression(),\n",
    "   #\"Linear Regression\":LinearRegression(),\n",
    "    \"K-Neighbors Classifier\": KNeighborsClassifier(),\n",
    "   # \"XGBClassifier\": XGBClassifier(), \n",
    "   #  \"CatBoosting Classifier\": CatBoostClassifier(verbose=False),\n",
    "     \"Support Vector Classifier\": SVC(),\n",
    "#    \"AdaBoost Classifier\": AdaBoostClassifier()\n",
    "}\n",
    "#X_test.toarray()\n",
    "#X_train.toarray()\n",
    "#X.toarray()\n",
    "#import numpy as np\n",
    "#from scipy.sparse import csr_matrix\n",
    "#temp = csr_matrix(X_train)\n",
    "#X_train = temp.toarray()\n",
    "\n",
    "for i in range(len(list(models))):\n",
    "    model = list(models.values())[i]\n",
    "    model.fit(X_train, y_train) # Train model\n",
    "\n",
    "    # Make predictions\n",
    "    y_train_pred = model.predict(X_train)\n",
    "    y_test_pred = model.predict(X_test)\n",
    "\n",
    "    # Training set performance\n",
    "    model_train_accuracy = accuracy_score(y_train, y_train_pred) # Calculate Accuracy\n",
    "    #model_train_f1 = f1_score(y_train, y_train_pred, average='weighted') # Calculate F1-score\n",
    "    #model_train_precision = precision_score(y_train, y_train_pred) # Calculate Precision\n",
    "    #model_train_recall = recall_score(y_train, y_train_pred) # Calculate Recall\n",
    "\n",
    "\n",
    "    # Test set performance\n",
    "    model_test_accuracy = accuracy_score(y_test, y_test_pred) # Calculate Accuracy\n",
    "    #model_test_f1 = f1_score(y_test, y_test_pred, average='weighted') # Calculate F1-score\n",
    "    #model_test_precision = precision_score(y_test, y_test_pred) # Calculate Precision\n",
    "    #model_test_recall = recall_score(y_test, y_test_pred) # Calculate Recall\n",
    "\n",
    "\n",
    "    print(list(models.keys())[i])\n",
    "    \n",
    "    print('Model performance for Training set')\n",
    "    print(\"- Accuracy: {:.4f}\".format(model_train_accuracy))\n",
    "    #print('- F1 score: {:.4f}'.format(model_train_f1))\n",
    "    #print('- Precision: {:.4f}'.format(model_train_precision))\n",
    "    #print('- Recall: {:.4f}'.format(model_train_recall))\n",
    "    \n",
    "    print('----------------------------------')\n",
    "    \n",
    "    print('Model performance for Test set')\n",
    "    print('- Accuracy: {:.4f}'.format(model_test_accuracy))\n",
    "    #print('- F1 score: {:.4f}'.format(model_test_f1))\n",
    "    #print('- Precision: {:.4f}'.format(model_test_precision))\n",
    "    #print('- Recall: {:.4f}'.format(model_test_recall))\n",
    "    \n",
    "    print('='*35)\n",
    "    print('\\n')"
   ]
  },
  {
   "cell_type": "code",
   "execution_count": 522,
   "metadata": {},
   "outputs": [],
   "source": [
    "knn_params = {\"n_neighbors\": [2, 3, 10, 20, 40, 50]}\n",
    "\n",
    "rf_params = {\"max_depth\": [5, 8, 15, None, 10],\n",
    "             \"max_features\": [5, 7, \"auto\", 8],\n",
    "             \"min_samples_split\": [2, 8, 15, 20],\n",
    "             \"n_estimators\": [100, 200, 500, 1000]}\n",
    "\n",
    "xgboost_params = {\"learning_rate\": [0.1, 0.01],\n",
    "                  \"max_depth\": [5, 8, 12, 20, 30],\n",
    "                  \"n_estimators\": [100, 200, 300],\n",
    "                  \"colsample_bytree\": [0.5, 0.8, 1, 0.3, 0.4]}\n",
    "\n",
    "cat_params = {\"learning_rate\": [0.1, 0.01],\n",
    "              \"max_depth\": [5, 8, 12, 20, 30]}"
   ]
  },
  {
   "cell_type": "code",
   "execution_count": 523,
   "metadata": {},
   "outputs": [],
   "source": [
    "randomcv_models = [('KNN', KNeighborsClassifier(), knn_params),\n",
    "                   #(\"RF\", RandomForestClassifier(), rf_params),\n",
    "                  # ('XGBoost', XGBClassifier(), xgboost_params),\n",
    "                  # ('CatBoost', CatBoostClassifier(verbose=False), cat_params)\n",
    "                   ]"
   ]
  },
  {
   "cell_type": "code",
   "execution_count": 524,
   "metadata": {},
   "outputs": [
    {
     "name": "stdout",
     "output_type": "stream",
     "text": [
      "Fitting 3 folds for each of 6 candidates, totalling 18 fits\n",
      "---------------- Best Params for KNN -------------------\n",
      "{'n_neighbors': 3}\n"
     ]
    }
   ],
   "source": [
    "from sklearn.model_selection import RandomizedSearchCV\n",
    "\n",
    "model_param = {}\n",
    "for name, model, params in randomcv_models:\n",
    "    rf_random = RandomizedSearchCV(estimator=model,\n",
    "                                   param_distributions=params,\n",
    "                                   n_iter=100,\n",
    "                                   cv=3,\n",
    "                                   verbose=2,\n",
    "                                   n_jobs=-1)\n",
    "    rf_random.fit(X_train, y_train)\n",
    "    model_param[name] = rf_random. best_params_\n",
    "\n",
    "for model_name in model_param:\n",
    "    print(f\"---------------- Best Params for {model_name} -------------------\")\n",
    "    print(model_param[model_name])"
   ]
  },
  {
   "attachments": {},
   "cell_type": "markdown",
   "metadata": {},
   "source": [
    "### Models Re-Trained with Best Parameters"
   ]
  },
  {
   "cell_type": "code",
   "execution_count": 525,
   "metadata": {},
   "outputs": [
    {
     "name": "stdout",
     "output_type": "stream",
     "text": [
      "K-Neighbors Classifier\n",
      "Model performance for Training set\n",
      "- Accuracy: 0.8159\n",
      "----------------------------------\n",
      "Model performance for Test set\n",
      "- Accuracy: 0.8519\n",
      "===================================\n",
      "\n",
      "\n"
     ]
    }
   ],
   "source": [
    "from sklearn.metrics import roc_auc_score,roc_curve\n",
    "models = {\n",
    "   # \"Random Forest\": RandomForestClassifier(n_estimators=1000, min_samples_split=2, max_features= 7, max_depth= None),\n",
    "    \"K-Neighbors Classifier\": KNeighborsClassifier(n_neighbors=10),\n",
    "    #\"XGBClassifier\": XGBClassifier(n_estimators= 200, max_depth= 30, learning_rate= 0.1, colsample_bytree= 0.4, n_jobs=-1), \n",
    "    #\"CatBoosting Classifier\": CatBoostClassifier(max_depth= 12, learning_rate= 0.1,verbose=False),\n",
    "}\n",
    "\n",
    "for i in range(len(list(models))):\n",
    "    model = list(models.values())[i]\n",
    "    model.fit(X_train, y_train) # Train model\n",
    "\n",
    "    # Make predictions\n",
    "    y_train_pred = model.predict(X_train)\n",
    "    y_test_pred = model.predict(X_test)\n",
    "\n",
    "    # Training set performance\n",
    "    model_train_accuracy = accuracy_score(y_train, y_train_pred) # Calculate Accuracy\n",
    "    #model_train_f1 = f1_score(y_train, y_train_pred, average='weighted') # Calculate F1-score\n",
    "    #model_train_precision = precision_score(y_train, y_train_pred) # Calculate Precision\n",
    "    #model_train_recall = recall_score(y_train, y_train_pred) # Calculate Recall\n",
    "   # model_train_rocauc_score = roc_auc_score(y_train, y_train_pred)\n",
    "\n",
    "    # Test set performance\n",
    "    model_test_accuracy = accuracy_score(y_test, y_test_pred) # Calculate Accuracy\n",
    "   # model_test_f1 = f1_score(y_test, y_test_pred, average='weighted') # Calculate F1-score\n",
    "    #model_test_precision = precision_score(y_test, y_test_pred) # Calculate Precision\n",
    "    #model_test_recall = recall_score(y_test, y_test_pred) # Calculate Recall\n",
    "    #model_test_rocauc_score = roc_auc_score(y_test, y_test_pred) #Calculate Roc\n",
    "\n",
    "\n",
    "\n",
    "    print(list(models.keys())[i])\n",
    "    \n",
    "    print('Model performance for Training set')\n",
    "    print(\"- Accuracy: {:.4f}\".format(model_train_accuracy))\n",
    "    #print('- F1 score: {:.4f}'.format(model_train_f1))\n",
    "    #print('- Precision: {:.4f}'.format(model_train_precision))\n",
    "    #print('- Recall: {:.4f}'.format(model_train_recall))\n",
    "    #print('- Roc Auc Score: {:.4f}'.format(model_train_rocauc_score))\n",
    "    \n",
    "    print('----------------------------------')\n",
    "    \n",
    "    print('Model performance for Test set')\n",
    "    print('- Accuracy: {:.4f}'.format(model_test_accuracy))\n",
    "    #print('- F1 score: {:.4f}'.format(model_test_f1))\n",
    "    #print('- Precision: {:.4f}'.format(model_test_precision))\n",
    "    #print('- Recall: {:.4f}'.format(model_test_recall))\n",
    "    #print('- Roc Auc Score: {:.4f}'.format(model_test_rocauc_score))\n",
    "    \n",
    "    print('='*35)\n",
    "    print('\\n')"
   ]
  },
  {
   "attachments": {},
   "cell_type": "markdown",
   "metadata": {},
   "source": [
    "### Plot ROC-AUC curve"
   ]
  },
  {
   "cell_type": "markdown",
   "metadata": {},
   "source": [
    "from sklearn.metrics import roc_auc_score,roc_curve\n",
    "plt.figure()\n",
    "\n",
    "# Add the models to the list that you want to view on the ROC plot\n",
    "auc_models = [\n",
    "{\n",
    "    'label': 'Random Forest Classifier',\n",
    "    'model': RandomForestClassifier(n_estimators=1000, min_samples_split=2, max_features= 'auto', max_depth= None),\n",
    "    'auc': 0.8618\n",
    "},\n",
    "{\n",
    "    'label': 'XGBoost Classifier',\n",
    "    'model': XGBClassifier(n_estimators= 200, max_depth= 20, learning_rate= 0.1, colsample_bytree= 0.8, n_jobs=-1),\n",
    "    'auc': 0.8073\n",
    "},\n",
    "{\n",
    "    'label': 'KNN Classifier',\n",
    "    'model': KNeighborsClassifier(n_neighbors=10),\n",
    "    'auc': 0.8629 \n",
    "},\n",
    "{\n",
    "    'label': 'CatBoost Classifier',\n",
    "    'model': CatBoostClassifier(max_depth= 12, learning_rate= 0.1,verbose=False),\n",
    "    'auc': 0.8615\n",
    "},\n",
    "    \n",
    "]\n"
   ]
  },
  {
   "cell_type": "markdown",
   "metadata": {},
   "source": [
    "\n",
    "# Below for loop iterates through your models list\n",
    "for m in auc_models:\n",
    "    model = m['model'] # select the model\n",
    "    model.fit(X_train, y_train) # train the model\n",
    "# Compute False postive rate, and True positive rate\n",
    "    fpr, tpr, thresholds = roc_curve(y_test, model.predict_proba(X_test)[:,1])\n",
    "# Calculate Area under the curve to display on the plot\n",
    "# Now, plot the computed values\n",
    "    plt.plot(fpr, tpr, label='%s ROC (area = %0.2f)' % (m['label'], m['auc']))\n",
    "# Custom settings for the plot \n",
    "plt.plot([0, 1], [0, 1],'r--')\n",
    "plt.xlim([0.0, 1.0])\n",
    "plt.ylim([0.0, 1.05])\n",
    "plt.xlabel('1-Specificity(False Positive Rate)')\n",
    "plt.ylabel('Sensitivity(True Positwive Rate)')\n",
    "plt.title('Receiver Operating Characteristic')\n",
    "plt.legend(loc=\"lower right\")\n",
    "plt.savefig(r\"./images/roc_auc/auc.png\")\n",
    "plt.show()   # Display"
   ]
  },
  {
   "attachments": {},
   "cell_type": "markdown",
   "metadata": {},
   "source": [
    "### Feature Selection for Model Deployment"
   ]
  },
  {
   "cell_type": "markdown",
   "metadata": {},
   "source": [
    "best_xgb = XGBClassifier(n_estimators= 200, max_depth= 30, learning_rate= 0.1, colsample_bytree= 0.4, n_jobs=-1)\n",
    "best_xgb = best_xgb.fit(X_train,y_train)\n",
    "xgb_pred = best_xgb.predict(X_test)\n",
    "score = accuracy_score(y_test,xgb_pred)\n",
    "cr = classification_report(y_test,xgb_pred)\n",
    "\n",
    "print(\"FINAL XGB\")\n",
    "print (\"Accuracy Score value: {:.4f}\".format(score))\n",
    "print (cr)"
   ]
  },
  {
   "cell_type": "code",
   "execution_count": null,
   "metadata": {},
   "outputs": [],
   "source": [
    "#from sklearn.metrics import ConfusionMatrixDisplay\n",
    "#ConfusionMatrixDisplay.from_estimator(best_xgb, X_test, y_test)"
   ]
  },
  {
   "cell_type": "code",
   "execution_count": null,
   "metadata": {},
   "outputs": [],
   "source": [
    "#import pickle\n",
    " \n",
    "# Save the trained model as a pickle file.\n",
    "#pickle.dump(best_xgb, open('classificationmodel.pkl', 'wb'))"
   ]
  },
  {
   "cell_type": "code",
   "execution_count": null,
   "metadata": {},
   "outputs": [],
   "source": []
  }
 ],
 "metadata": {
  "kernelspec": {
   "display_name": "Python 3 (ipykernel)",
   "language": "python",
   "name": "python3"
  },
  "language_info": {
   "codemirror_mode": {
    "name": "ipython",
    "version": 3
   },
   "file_extension": ".py",
   "mimetype": "text/x-python",
   "name": "python",
   "nbconvert_exporter": "python",
   "pygments_lexer": "ipython3",
   "version": "3.10.9"
  },
  "vscode": {
   "interpreter": {
    "hash": "fe5057b33890e8dd303e21b19623a3798ffaa8a05dcdf7dd3a35472e2b83b2ee"
   }
  }
 },
 "nbformat": 4,
 "nbformat_minor": 2
}
